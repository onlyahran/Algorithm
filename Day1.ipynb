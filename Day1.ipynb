{
 "cells": [
  {
   "cell_type": "markdown",
   "metadata": {},
   "source": [
    "연습문제: 피보나치의 n번째 항을 구하라"
   ]
  },
  {
   "cell_type": "code",
   "execution_count": null,
   "metadata": {},
   "outputs": [],
   "source": [
    "# 1\n",
    "def fib(n):\n",
    "    if n == 0: return 0\n",
    "    elif n == 1: return 1\n",
    "    else: return fib(n-1)+fib(n-2)"
   ]
  },
  {
   "cell_type": "code",
   "execution_count": null,
   "metadata": {},
   "outputs": [],
   "source": [
    "# 2\n",
    "def fib2(n):\n",
    "    if n == 0: return 0\n",
    "    else:\n",
    "        f = [0,1]\n",
    "        for i in range(2, n+1):\n",
    "            f.append(f[i-1]+f[i-2])\n",
    "        return f[n]"
   ]
  },
  {
   "cell_type": "code",
   "execution_count": null,
   "metadata": {},
   "outputs": [],
   "source": [
    "print(fib(1))\n",
    "print(fib(5))\n",
    "\n",
    "print(fib2(1))\n",
    "print(fib2(5))"
   ]
  },
  {
   "cell_type": "code",
   "execution_count": null,
   "metadata": {},
   "outputs": [],
   "source": [
    "def push(value):\n",
    "    stack = stack.append(value)\n",
    "    \n",
    "def pop():\n",
    "    if len(stack) == 0: return None\n",
    "    else:\n",
    "        return_val = stack[len(stack)-1]\n",
    "        stack = stack.remove(return_val)\n",
    "        return stack"
   ]
  },
  {
   "cell_type": "code",
   "execution_count": null,
   "metadata": {},
   "outputs": [],
   "source": [
    "stack = [5,3,4,6,1]\n",
    "stack.pop()\n",
    "stack.push(2)"
   ]
  },
  {
   "cell_type": "code",
   "execution_count": null,
   "metadata": {},
   "outputs": [],
   "source": [
    "def enqueue(value):\n",
    "    queue = queue.append(value)\n",
    "\n",
    "def dequeue():\n",
    "    if len(queue) == 0 : return None\n",
    "    else:\n",
    "        return_val = queue[0]\n",
    "        queue = stack.remove(return_val)\n",
    "        return queue"
   ]
  },
  {
   "cell_type": "code",
   "execution_count": null,
   "metadata": {},
   "outputs": [],
   "source": [
    "queue = [5,3,4]\n",
    "queue.enqueue(10)"
   ]
  },
  {
   "cell_type": "code",
   "execution_count": null,
   "metadata": {},
   "outputs": [],
   "source": [
    "# stack\n",
    "\n",
    "t = int(input())\n",
    "for _ in range(t):\n",
    "    n = int(input()) # 명령어 개수\n",
    "    stack = []\n",
    "    for i in range(n):\n",
    "        q = int(input())\n",
    "        if q == -1:\n",
    "            if len(stack) != 0:\n",
    "                print(stack[len(stack)-1])\n",
    "                stack.pop()\n",
    "        elif q > 0:\n",
    "            stack.append(q)\n",
    "        else:\n",
    "            continue"
   ]
  },
  {
   "cell_type": "code",
   "execution_count": null,
   "metadata": {},
   "outputs": [],
   "source": [
    "# queue\n",
    "import collections\n",
    "\n",
    "t = int(input())\n",
    "for _ in range(t):\n",
    "    n = int(input()) # 명령어 개수\n",
    "    queue = collections.deque([]) # 빈 큐 선언\n",
    "    for _ in range(n):\n",
    "        q = int(input())\n",
    "        if q == -1:\n",
    "            if len(queue) != 0:\n",
    "                # print(queue[0]) \n",
    "                # queue.pop(0) 출력시,\n",
    "                # pop(0) 이후 list 내의 모든 원소가 재정렬되기에 비효율적!\n",
    "                print(queue.popleft())\n",
    "        else:\n",
    "            queue.append(q)"
   ]
  },
  {
   "cell_type": "code",
   "execution_count": null,
   "metadata": {},
   "outputs": [
    {
     "name": "stdout",
     "output_type": "stream",
     "text": [
      "1\n",
      "6\n",
      "3\n",
      "[3]\n",
      "1\n",
      "[1, 3]\n",
      "2\n",
      "[1, 3, 2]\n",
      "5\n",
      "[1, 3, 2, 5]\n",
      "-1\n",
      "1\n",
      "[2, 3, 5]\n"
     ]
    }
   ],
   "source": [
    "# priority queue\n",
    "import heapq\n",
    "\n",
    "t = int(input())\n",
    "for _ in range(t):\n",
    "    n = int(input()) # 명령어 개수\n",
    "    hq = [] # 빈 큐 선언\n",
    "    for _ in range(n):\n",
    "        q = int(input())\n",
    "        if q == -1:\n",
    "            if len(hq) != 0:\n",
    "                min_num = min(hq)\n",
    "                min_idx = hq.index(min_num)\n",
    "                print(hq[min_idx])\n",
    "                heapq.heappop(hq)\n",
    "        else:\n",
    "            heapq.heappush(hq, q)"
   ]
  },
  {
   "cell_type": "code",
   "execution_count": 17,
   "metadata": {},
   "outputs": [
    {
     "name": "stdout",
     "output_type": "stream",
     "text": [
      "2\n",
      "7 3 9 7 2 9 4 3 2 4\n",
      "YES\n",
      "1 2 5 1 2 3 5 4 3 4\n",
      "NO\n"
     ]
    }
   ],
   "source": [
    "# 두바퀴 레이스\n",
    "import collections\n",
    "\n",
    "t = int(input())\n",
    "for test_case in range(t):\n",
    "    car = list(map(int, input().split())) ## 번호는 두번만 나타난다\n",
    "    q = collections.deque([])\n",
    "    \n",
    "    for c in car:\n",
    "        if len(q) == 0   or q[0] != c: # len(q) == 0는 not q와 같다.\n",
    "            q.append(c)\n",
    "        else:\n",
    "            q.popleft()\n",
    "    \n",
    "    if q: # True 리턴\n",
    "        print('YES')\n",
    "    else:\n",
    "        print('NO')"
   ]
  },
  {
   "cell_type": "code",
   "execution_count": null,
   "metadata": {},
   "outputs": [],
   "source": [
    "# 하노이의 탑\n",
    "def Hanoi(n, start, mid, end): #n개 고리를 start에서 end로 옮기는 함수\n",
    "    if n == 0: # 고리가 0이면 함수 종료\n",
    "        return\n",
    "    Hanoi(n-1, start, end, mid)\n",
    "    print(start + '->' + end)\n",
    "    Hanoi(n-1, start, mid, end)\n",
    "       \n",
    "t = int(input())\n",
    "for test_case in range(t):\n",
    "    n = int(input())\n",
    "    \n",
    "    Hanoi(n, 'A', 'B','C')"
   ]
  }
 ],
 "metadata": {
  "kernelspec": {
   "display_name": "Python 3",
   "language": "python",
   "name": "python3"
  },
  "language_info": {
   "codemirror_mode": {
    "name": "ipython",
    "version": 3
   },
   "file_extension": ".py",
   "mimetype": "text/x-python",
   "name": "python",
   "nbconvert_exporter": "python",
   "pygments_lexer": "ipython3",
   "version": "3.8.3"
  }
 },
 "nbformat": 4,
 "nbformat_minor": 4
}
