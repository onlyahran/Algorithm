{
 "cells": [
  {
   "cell_type": "code",
   "execution_count": null,
   "metadata": {},
   "outputs": [],
   "source": [
    "t = int(input())\n",
    "for testcase in range(t):\n",
    "    lst = list(map(int,input().split()))\n",
    "    \n",
    "#     def mySort(arr):\n",
    "#         if len(arr) <= 1:\n",
    "#             return arr\n",
    "#         pivot = arr[len(arr) // 2]\n",
    "#         lesser_arr, equal_arr, greater_arr = [], [], []\n",
    "#         for num in arr:\n",
    "#             if num < pivot:\n",
    "#                 lesser_arr.append(num)\n",
    "#             elif num > pivot:\n",
    "#                 greater_arr.append(num)\n",
    "#             else:\n",
    "#                 equal_arr.append(num)\n",
    "#         return quick_sort(lesser_arr) + equal_arr + quick_sort(greater_arr)  \n",
    "    \n",
    "    # 오름차순\n",
    "    # lst.sort(key = lambda x: x[1])\n",
    "    \n",
    "    # 내림차순\n",
    "    # lst.sort(key = func, reverse = True)\n",
    "    print(*lst)"
   ]
  }
 ],
 "metadata": {
  "kernelspec": {
   "display_name": "Python 3",
   "language": "python",
   "name": "python3"
  },
  "language_info": {
   "codemirror_mode": {
    "name": "ipython",
    "version": 3
   },
   "file_extension": ".py",
   "mimetype": "text/x-python",
   "name": "python",
   "nbconvert_exporter": "python",
   "pygments_lexer": "ipython3",
   "version": "3.8.3"
  }
 },
 "nbformat": 4,
 "nbformat_minor": 4
}
