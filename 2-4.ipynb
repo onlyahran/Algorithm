{
 "cells": [
  {
   "cell_type": "code",
   "execution_count": 12,
   "metadata": {},
   "outputs": [
    {
     "name": "stdout",
     "output_type": "stream",
     "text": [
      "1\n",
      "6\n",
      "3\n",
      "4\n",
      "2\n",
      "1\n",
      "5\n",
      "-1\n",
      "5\n"
     ]
    }
   ],
   "source": [
    "# 두바퀴 레이스\n",
    "import collections\n",
    "\n",
    "t = int(input())\n",
    "for test_case in range(t):\n",
    "    car = list(map(int, input().split())) ## 번호는 두번만 나타난다\n",
    "    q = collections.deque([])\n",
    "    \n",
    "    for c in car:\n",
    "        if len(q) == 0  or q[0] != c:\n",
    "            q.append(c)\n",
    "        else:\n",
    "            q.popleft()\n",
    "    \n",
    "    if q:\n",
    "        print('YES')\n",
    "    else:\n",
    "        print('NO')"
   ]
  }
 ],
 "metadata": {
  "kernelspec": {
   "display_name": "Python 3",
   "language": "python",
   "name": "python3"
  },
  "language_info": {
   "codemirror_mode": {
    "name": "ipython",
    "version": 3
   },
   "file_extension": ".py",
   "mimetype": "text/x-python",
   "name": "python",
   "nbconvert_exporter": "python",
   "pygments_lexer": "ipython3",
   "version": "3.8.3"
  }
 },
 "nbformat": 4,
 "nbformat_minor": 4
}
