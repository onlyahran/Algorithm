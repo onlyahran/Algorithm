{
 "cells": [
  {
   "cell_type": "code",
   "execution_count": null,
   "metadata": {},
   "outputs": [],
   "source": [
    "# 7. 가장 가파른 두 점\n",
    "\n",
    "def incline(x1, y1, x2, y2):\n",
    "    s = (y2 - y1) / (x2 - x1)\n",
    "    return abs(s)\n",
    "    \n",
    "t = int(input())\n",
    "for testcase in range(t):\n",
    "    dot_num = int(input())\n",
    "    \n",
    "    all_xy = []\n",
    "    for _ in range(dot_num):\n",
    "        xy = list(map(int, input().split()))\n",
    "        all_xy.extend(xy)\n",
    "        for i in range(len(all_xy)):\n",
    "            xy[i][0]"
   ]
  }
 ],
 "metadata": {
  "kernelspec": {
   "display_name": "Python 3",
   "language": "python",
   "name": "python3"
  },
  "language_info": {
   "codemirror_mode": {
    "name": "ipython",
    "version": 3
   },
   "file_extension": ".py",
   "mimetype": "text/x-python",
   "name": "python",
   "nbconvert_exporter": "python",
   "pygments_lexer": "ipython3",
   "version": "3.8.3"
  }
 },
 "nbformat": 4,
 "nbformat_minor": 4
}
