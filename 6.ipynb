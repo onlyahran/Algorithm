{
 "cells": [
  {
   "cell_type": "code",
   "execution_count": null,
   "metadata": {},
   "outputs": [
    {
     "name": "stdout",
     "output_type": "stream",
     "text": [
      "2\n",
      "6 3 1 5 4\n",
      "7 2 3 9 5\n",
      "NO NO YES NO YES\n"
     ]
    }
   ],
   "source": [
    "# 6. 탐색\n",
    "\n",
    "def is_in (x,l):\n",
    "    for i in range(len(l)):\n",
    "        if x == l[i]:\n",
    "            return True\n",
    "    return False\n",
    "\n",
    "t = int(input())\n",
    "for testcase in range(t):\n",
    "    lst1 = list(map(int,input().split()))\n",
    "    lst2 = list(map(int,input().split()))\n",
    "    ans = []\n",
    "    for i in lst2:\n",
    "        if is_in(i, lst1) == True:\n",
    "            ans.append(\"YES\")\n",
    "        else:\n",
    "            ans.append(\"NO\")\n",
    "    print(*ans)"
   ]
  },
  {
   "cell_type": "code",
   "execution_count": null,
   "metadata": {},
   "outputs": [],
   "source": []
  }
 ],
 "metadata": {
  "kernelspec": {
   "display_name": "Python 3",
   "language": "python",
   "name": "python3"
  },
  "language_info": {
   "codemirror_mode": {
    "name": "ipython",
    "version": 3
   },
   "file_extension": ".py",
   "mimetype": "text/x-python",
   "name": "python",
   "nbconvert_exporter": "python",
   "pygments_lexer": "ipython3",
   "version": "3.8.3"
  }
 },
 "nbformat": 4,
 "nbformat_minor": 4
}
